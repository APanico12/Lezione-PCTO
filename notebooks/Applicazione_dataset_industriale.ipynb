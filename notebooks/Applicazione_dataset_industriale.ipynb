{
  "cells": [
    {
      "cell_type": "markdown",
      "metadata": {
        "id": "view-in-github",
        "colab_type": "text"
      },
      "source": [
        "<a href=\"https://colab.research.google.com/github/APanico12/Lezione-PCTO/blob/main/Applicazione_dataset_industriale.ipynb\" target=\"_parent\"><img src=\"https://colab.research.google.com/assets/colab-badge.svg\" alt=\"Open In Colab\"/></a>"
      ]
    },
    {
      "cell_type": "markdown",
      "metadata": {
        "id": "URuIFpI26HEO"
      },
      "source": [
        "# 📘 Introduzione al problema\n",
        "\n",
        "In questo progetto, il nostro obiettivo è costruire un **modello predittivo della qualità del prodotto** generato da una **macchina per la tostatura a camere multiple**.\n",
        "\n",
        "La macchina è composta da **5 camere**, ognuna delle quali contiene **3 sensori di temperatura**, disposti in modo da monitorare uniformemente la distribuzione del calore. Oltre alla temperatura, vengono rilevate due caratteristiche **prima dell'inizio del processo**:  \n",
        "- **L’umidità iniziale** del materiale grezzo  \n",
        "- **L’altezza dello strato** di materiale immesso nella macchina\n",
        "\n",
        "---\n",
        "\n",
        "# 🔄 Processo di tostatura\n",
        "\n",
        "- Il processo dura **esattamente 1 ora** per ogni batch di materiale.\n",
        "- I **sensori registrano dati ogni minuto**, quindi per ogni batch abbiamo **60 osservazioni** temporali per ciascun sensore.\n",
        "- Alla fine dell'ora, un **campione del prodotto tostato** viene analizzato in laboratorio e ne viene misurata la **qualità complessiva**.\n",
        "\n",
        "---\n",
        "\n",
        "# 📁 I dataset forniti\n",
        "\n",
        "## 🔹 `data_X.csv`\n",
        "\n",
        "Contiene i dati minuto per minuto raccolti durante il processo di tostatura.  \n",
        "Ogni riga rappresenta **una lettura al minuto**, e include:\n",
        "\n",
        "- 15 colonne di temperatura: `temp_0` a `temp_14`  \n",
        "  (3 sensori per ciascuna delle 5 camere)\n",
        "- 2 colonne statiche (costanti durante il batch ma ripetute ogni minuto):\n",
        "  - `layer_height` → altezza dello strato del materiale\n",
        "  - `moisture` → umidità iniziale del materiale\n",
        "- `time` → timestamp del minuto\n",
        "\n",
        "Un batch da 1 ora è quindi rappresentato da **60 righe consecutive**.\n",
        "\n",
        "---\n",
        "\n",
        "## 🔹 `data_Y.csv`\n",
        "\n",
        "Contiene i **valori di qualità misurati** in laboratorio.  \n",
        "Ogni riga corrisponde a un **campione orario** del prodotto in uscita, con:\n",
        "\n",
        "- `time` → timestamp dell'ora\n",
        "- `target` → qualità misurata del prodotto\n",
        "\n",
        "L'etichetta (`target`) si riferisce al materiale processato nei **60 minuti precedenti**.\n",
        "\n",
        "---\n",
        "\n",
        "## 🔹 `sample_submission.csv`\n",
        "\n",
        "Contiene l’elenco dei **timestamp** per cui è richiesta una predizione di qualità.  \n",
        "Il file è utilizzato per formattare correttamente le **5808 predizioni** finali da inviare per la valutazione.\n",
        "\n",
        "---\n",
        "\n",
        "# 🎯 Obiettivo del modello\n",
        "\n",
        "Dobbiamo costruire un modello che:\n",
        "\n",
        "- A partire dai **dati dei sensori ogni minuto** (più altezza e umidità iniziali),\n",
        "- Predica il valore di **qualità del prodotto** alla fine dell'ora,\n",
        "- Minimizzando l'**errore assoluto medio (MAE)** rispetto alle misurazioni di laboratorio.\n",
        "\n",
        "Ogni istanza di apprendimento corrisponde a **un batch orario**, e il modello dovrà associare le informazioni temporali (60×sensori) a **una sola etichetta finale** di qualità.\n",
        "\n",
        "---\n",
        "\n",
        "# 💡 Strategia suggerita\n",
        "\n",
        "- Raggruppare ogni batch di 60 righe (1 ora) in una singola istanza\n",
        "- Calcolare statistiche aggregative (media, deviazione standard, min, max) per ogni sensore\n",
        "- Utilizzare queste statistiche + le variabili statiche (`layer_height`, `moisture`) come feature\n",
        "- Addestrare un modello di regressione (es. Random Forest, XGBoost, o reti neurali)\n"
      ]
    },
    {
      "cell_type": "code",
      "execution_count": 3,
      "metadata": {
        "id": "ELA-hrqD0YxD"
      },
      "outputs": [],
      "source": [
        "import pandas as pd\n",
        "import seaborn as sns\n",
        "import numpy as np\n",
        "import matplotlib.pyplot as plt"
      ]
    },
    {
      "cell_type": "code",
      "execution_count": 4,
      "metadata": {
        "colab": {
          "base_uri": "https://localhost:8080/"
        },
        "id": "IFJFd-en0g10",
        "outputId": "5ba3babd-1291-4c2c-d80f-a402270b228e"
      },
      "outputs": [
        {
          "output_type": "stream",
          "name": "stderr",
          "text": [
            "<ipython-input-4-207545901>:10: DeprecationWarning: load_dataset is deprecated and will be removed in a future version.\n",
            "  X = kagglehub.load_dataset(\n"
          ]
        },
        {
          "output_type": "stream",
          "name": "stdout",
          "text": [
            "Downloading from https://www.kaggle.com/api/v1/datasets/download/podsyp/production-quality?dataset_version_number=1&file_name=data_X.csv...\n"
          ]
        },
        {
          "output_type": "stream",
          "name": "stderr",
          "text": [
            "100%|██████████| 30.0M/30.0M [00:00<00:00, 91.9MB/s]"
          ]
        },
        {
          "output_type": "stream",
          "name": "stdout",
          "text": [
            "Extracting zip of data_X.csv...\n"
          ]
        },
        {
          "output_type": "stream",
          "name": "stderr",
          "text": [
            "\n",
            "<ipython-input-4-207545901>:15: DeprecationWarning: load_dataset is deprecated and will be removed in a future version.\n",
            "  Y = kagglehub.load_dataset(\n",
            "<ipython-input-4-207545901>:20: DeprecationWarning: load_dataset is deprecated and will be removed in a future version.\n",
            "  submission = kagglehub.load_dataset(\n"
          ]
        }
      ],
      "source": [
        "# Install dependencies as needed:\n",
        "#!pip install kagglehub[pandas-datasets]\n",
        "import kagglehub\n",
        "from kagglehub import KaggleDatasetAdapter\n",
        "\n",
        "# Set the path to the file you'd like to load\n",
        "file_path = \"data_X.csv\"\n",
        "\n",
        "# Load the latest version\n",
        "X = kagglehub.load_dataset(\n",
        "  KaggleDatasetAdapter.PANDAS,\n",
        "  \"podsyp/production-quality\",\n",
        "  file_path\n",
        ")\n",
        "Y = kagglehub.load_dataset(\n",
        "  KaggleDatasetAdapter.PANDAS,\n",
        "  \"podsyp/production-quality\",\n",
        "  \"data_Y.csv\"\n",
        ")\n",
        "submission = kagglehub.load_dataset(\n",
        "  KaggleDatasetAdapter.PANDAS,\n",
        "  \"podsyp/production-quality\",\n",
        "  \"sample_submission.csv\"\n",
        ")"
      ]
    },
    {
      "cell_type": "markdown",
      "metadata": {
        "id": "n807iYPx9L4R"
      },
      "source": [
        "# 🔍 Inizio EDA (Exploratory Data Analysis)\n",
        "\n",
        "Quando affrontiamo un problema di machine learning o analisi statistica, il primo passo fondamentale è **conoscere i dati**. L’EDA serve a:\n",
        "\n",
        "- Capire la **struttura del dataset**\n",
        "- Verificare la **qualità dei dati** (missing, formati, outlier)\n",
        "- Osservare la **distribuzione delle variabili**\n",
        "- Identificare pattern, correlazioni o anomalie\n",
        "- Preparare le **trasformazioni e feature engineering** successive\n",
        "\n",
        "---"
      ]
    },
    {
      "cell_type": "markdown",
      "metadata": {
        "id": "QKqwSpYIDC8U"
      },
      "source": [
        "## 🗂️ Data Description\n",
        "\n",
        "Il primo passo in ogni analisi statistica è capire **che tipo di dati abbiamo a disposizione**.\n",
        "\n",
        "Nel nostro caso, vogliamo costruire un modello in grado di prevedere la **qualità finale del prodotto** tostato, sulla base di misurazioni effettuate **minuto per minuto** durante il processo produttivo.\n",
        "\n",
        "---\n",
        "\n",
        "### 📐 Dimensioni dei dataset\n",
        "\n",
        "Verifichiamo il numero di righe (osservazioni) e colonne (variabili) per ciascun file.\n"
      ]
    },
    {
      "cell_type": "code",
      "execution_count": 5,
      "metadata": {
        "colab": {
          "base_uri": "https://localhost:8080/"
        },
        "id": "_m6fj4L71zos",
        "outputId": "4f7bbd10-c220-49b8-9e48-676f780ce4b9"
      },
      "outputs": [
        {
          "output_type": "execute_result",
          "data": {
            "text/plain": [
              "((2103841, 18), (29184, 2), (5808, 2))"
            ]
          },
          "metadata": {},
          "execution_count": 5
        }
      ],
      "source": [
        "X.shape, Y.shape, submission.shape"
      ]
    },
    {
      "cell_type": "code",
      "execution_count": 6,
      "metadata": {
        "colab": {
          "base_uri": "https://localhost:8080/"
        },
        "id": "cLfLSFec8-El",
        "outputId": "aa632fd1-d01d-462b-85fd-349f3860fb9a"
      },
      "outputs": [
        {
          "output_type": "stream",
          "name": "stdout",
          "text": [
            "<class 'pandas.core.frame.DataFrame'>\n",
            "RangeIndex: 2103841 entries, 0 to 2103840\n",
            "Data columns (total 18 columns):\n",
            " #   Column      Dtype  \n",
            "---  ------      -----  \n",
            " 0   date_time   object \n",
            " 1   T_data_1_1  int64  \n",
            " 2   T_data_1_2  int64  \n",
            " 3   T_data_1_3  int64  \n",
            " 4   T_data_2_1  int64  \n",
            " 5   T_data_2_2  int64  \n",
            " 6   T_data_2_3  int64  \n",
            " 7   T_data_3_1  int64  \n",
            " 8   T_data_3_2  int64  \n",
            " 9   T_data_3_3  int64  \n",
            " 10  T_data_4_1  int64  \n",
            " 11  T_data_4_2  int64  \n",
            " 12  T_data_4_3  int64  \n",
            " 13  T_data_5_1  int64  \n",
            " 14  T_data_5_2  int64  \n",
            " 15  T_data_5_3  int64  \n",
            " 16  H_data      float64\n",
            " 17  AH_data     float64\n",
            "dtypes: float64(2), int64(15), object(1)\n",
            "memory usage: 288.9+ MB\n",
            "<class 'pandas.core.frame.DataFrame'>\n",
            "RangeIndex: 29184 entries, 0 to 29183\n",
            "Data columns (total 2 columns):\n",
            " #   Column     Non-Null Count  Dtype \n",
            "---  ------     --------------  ----- \n",
            " 0   date_time  29184 non-null  object\n",
            " 1   quality    29184 non-null  int64 \n",
            "dtypes: int64(1), object(1)\n",
            "memory usage: 456.1+ KB\n",
            "<class 'pandas.core.frame.DataFrame'>\n",
            "RangeIndex: 5808 entries, 0 to 5807\n",
            "Data columns (total 2 columns):\n",
            " #   Column     Non-Null Count  Dtype \n",
            "---  ------     --------------  ----- \n",
            " 0   date_time  5808 non-null   object\n",
            " 1   quality    5808 non-null   int64 \n",
            "dtypes: int64(1), object(1)\n",
            "memory usage: 90.9+ KB\n"
          ]
        },
        {
          "output_type": "execute_result",
          "data": {
            "text/plain": [
              "(None, None, None)"
            ]
          },
          "metadata": {},
          "execution_count": 6
        }
      ],
      "source": [
        "#info for all dataset\n",
        "X.info(), Y.info(), submission.info()"
      ]
    },
    {
      "cell_type": "code",
      "execution_count": 7,
      "metadata": {
        "colab": {
          "base_uri": "https://localhost:8080/",
          "height": 582
        },
        "id": "kOfDDwjN8SBo",
        "outputId": "62cc09a0-f9b1-476a-df5c-8a070e6c14b8"
      },
      "outputs": [
        {
          "output_type": "execute_result",
          "data": {
            "text/plain": [
              "<pandas.io.formats.style.Styler at 0x781c5270f590>"
            ],
            "text/html": [
              "<style type=\"text/css\">\n",
              "#T_21175_row0_col0, #T_21175_row0_col4 {\n",
              "  background-color: #80cec2;\n",
              "  color: #000000;\n",
              "}\n",
              "#T_21175_row0_col1, #T_21175_row14_col1 {\n",
              "  background-color: #ccebc6;\n",
              "  color: #000000;\n",
              "}\n",
              "#T_21175_row0_col2, #T_21175_row1_col2, #T_21175_row2_col2, #T_21175_row3_col2, #T_21175_row4_col2, #T_21175_row5_col2, #T_21175_row6_col2, #T_21175_row7_col2, #T_21175_row8_col2, #T_21175_row9_col2, #T_21175_row10_col2, #T_21175_row11_col2, #T_21175_row12_col2, #T_21175_row13_col2, #T_21175_row14_col2, #T_21175_row15_col1, #T_21175_row16_col1 {\n",
              "  background-color: #f7fcf0;\n",
              "  color: #000000;\n",
              "}\n",
              "#T_21175_row0_col3, #T_21175_row2_col0, #T_21175_row2_col4 {\n",
              "  background-color: #88d1c0;\n",
              "  color: #000000;\n",
              "}\n",
              "#T_21175_row0_col5, #T_21175_row9_col0, #T_21175_row9_col4 {\n",
              "  background-color: #77cac5;\n",
              "  color: #000000;\n",
              "}\n",
              "#T_21175_row0_col6, #T_21175_row1_col6, #T_21175_row2_col6, #T_21175_row3_col6, #T_21175_row4_col6, #T_21175_row5_col6, #T_21175_row6_col6, #T_21175_row7_col6, #T_21175_row8_col6, #T_21175_row9_col6, #T_21175_row10_col6, #T_21175_row11_col6, #T_21175_row12_col6, #T_21175_row13_col6, #T_21175_row14_col6, #T_21175_row15_col6, #T_21175_row16_col6 {\n",
              "  background-color: #084081;\n",
              "  color: #f1f1f1;\n",
              "}\n",
              "#T_21175_row1_col0, #T_21175_row1_col4, #T_21175_row11_col1 {\n",
              "  background-color: #98d7ba;\n",
              "  color: #000000;\n",
              "}\n",
              "#T_21175_row1_col1 {\n",
              "  background-color: #d8f0d3;\n",
              "  color: #000000;\n",
              "}\n",
              "#T_21175_row1_col3, #T_21175_row7_col5 {\n",
              "  background-color: #a0dab8;\n",
              "  color: #000000;\n",
              "}\n",
              "#T_21175_row1_col5 {\n",
              "  background-color: #8ed3be;\n",
              "  color: #000000;\n",
              "}\n",
              "#T_21175_row2_col1 {\n",
              "  background-color: #d8f0d2;\n",
              "  color: #000000;\n",
              "}\n",
              "#T_21175_row2_col3, #T_21175_row13_col0, #T_21175_row13_col4 {\n",
              "  background-color: #92d5bc;\n",
              "  color: #000000;\n",
              "}\n",
              "#T_21175_row2_col5, #T_21175_row10_col5 {\n",
              "  background-color: #7fcdc3;\n",
              "  color: #000000;\n",
              "}\n",
              "#T_21175_row3_col0, #T_21175_row3_col4, #T_21175_row6_col3, #T_21175_row9_col5, #T_21175_row14_col0, #T_21175_row14_col4 {\n",
              "  background-color: #72c7c7;\n",
              "  color: #000000;\n",
              "}\n",
              "#T_21175_row3_col1, #T_21175_row7_col3 {\n",
              "  background-color: #a9ddb5;\n",
              "  color: #000000;\n",
              "}\n",
              "#T_21175_row3_col3 {\n",
              "  background-color: #76c9c6;\n",
              "  color: #000000;\n",
              "}\n",
              "#T_21175_row3_col5 {\n",
              "  background-color: #6ec5c8;\n",
              "  color: #000000;\n",
              "}\n",
              "#T_21175_row4_col0, #T_21175_row4_col4 {\n",
              "  background-color: #53b6d1;\n",
              "  color: #f1f1f1;\n",
              "}\n",
              "#T_21175_row4_col1, #T_21175_row10_col3 {\n",
              "  background-color: #87d1c0;\n",
              "  color: #000000;\n",
              "}\n",
              "#T_21175_row4_col3, #T_21175_row11_col3 {\n",
              "  background-color: #56b7d0;\n",
              "  color: #f1f1f1;\n",
              "}\n",
              "#T_21175_row4_col5 {\n",
              "  background-color: #4fb3d3;\n",
              "  color: #f1f1f1;\n",
              "}\n",
              "#T_21175_row5_col0, #T_21175_row5_col4 {\n",
              "  background-color: #7accc4;\n",
              "  color: #000000;\n",
              "}\n",
              "#T_21175_row5_col1 {\n",
              "  background-color: #d2edcc;\n",
              "  color: #000000;\n",
              "}\n",
              "#T_21175_row5_col3 {\n",
              "  background-color: #81cec2;\n",
              "  color: #000000;\n",
              "}\n",
              "#T_21175_row5_col5, #T_21175_row16_col3 {\n",
              "  background-color: #73c8c7;\n",
              "  color: #000000;\n",
              "}\n",
              "#T_21175_row6_col0, #T_21175_row6_col4 {\n",
              "  background-color: #6cc4c9;\n",
              "  color: #000000;\n",
              "}\n",
              "#T_21175_row6_col1 {\n",
              "  background-color: #aedfb8;\n",
              "  color: #000000;\n",
              "}\n",
              "#T_21175_row6_col5, #T_21175_row8_col3 {\n",
              "  background-color: #67c1cb;\n",
              "  color: #000000;\n",
              "}\n",
              "#T_21175_row7_col0, #T_21175_row7_col4 {\n",
              "  background-color: #a5dcb6;\n",
              "  color: #000000;\n",
              "}\n",
              "#T_21175_row7_col1 {\n",
              "  background-color: #ccebc5;\n",
              "  color: #000000;\n",
              "}\n",
              "#T_21175_row8_col0, #T_21175_row8_col4 {\n",
              "  background-color: #5fbdcd;\n",
              "  color: #000000;\n",
              "}\n",
              "#T_21175_row8_col1 {\n",
              "  background-color: #afe0b8;\n",
              "  color: #000000;\n",
              "}\n",
              "#T_21175_row8_col5, #T_21175_row16_col0, #T_21175_row16_col4 {\n",
              "  background-color: #58b9d0;\n",
              "  color: #000000;\n",
              "}\n",
              "#T_21175_row9_col1 {\n",
              "  background-color: #b6e3bb;\n",
              "  color: #000000;\n",
              "}\n",
              "#T_21175_row9_col3, #T_21175_row14_col3 {\n",
              "  background-color: #7cccc4;\n",
              "  color: #000000;\n",
              "}\n",
              "#T_21175_row10_col0, #T_21175_row10_col4 {\n",
              "  background-color: #83cfc1;\n",
              "  color: #000000;\n",
              "}\n",
              "#T_21175_row10_col1 {\n",
              "  background-color: #bee6bf;\n",
              "  color: #000000;\n",
              "}\n",
              "#T_21175_row11_col0, #T_21175_row11_col4 {\n",
              "  background-color: #50b4d2;\n",
              "  color: #f1f1f1;\n",
              "}\n",
              "#T_21175_row11_col5 {\n",
              "  background-color: #4cb1d2;\n",
              "  color: #f1f1f1;\n",
              "}\n",
              "#T_21175_row12_col0, #T_21175_row12_col4 {\n",
              "  background-color: #b2e1b9;\n",
              "  color: #000000;\n",
              "}\n",
              "#T_21175_row12_col1 {\n",
              "  background-color: #e1f4dc;\n",
              "  color: #000000;\n",
              "}\n",
              "#T_21175_row12_col3 {\n",
              "  background-color: #b9e3bc;\n",
              "  color: #000000;\n",
              "}\n",
              "#T_21175_row12_col5 {\n",
              "  background-color: #acdfb7;\n",
              "  color: #000000;\n",
              "}\n",
              "#T_21175_row13_col1 {\n",
              "  background-color: #d7efd1;\n",
              "  color: #000000;\n",
              "}\n",
              "#T_21175_row13_col3 {\n",
              "  background-color: #9bd8b9;\n",
              "  color: #000000;\n",
              "}\n",
              "#T_21175_row13_col5 {\n",
              "  background-color: #8ad2bf;\n",
              "  color: #000000;\n",
              "}\n",
              "#T_21175_row14_col5 {\n",
              "  background-color: #68c1ca;\n",
              "  color: #000000;\n",
              "}\n",
              "#T_21175_row15_col0 {\n",
              "  background-color: #1475b2;\n",
              "  color: #f1f1f1;\n",
              "}\n",
              "#T_21175_row15_col2 {\n",
              "  background-color: #45a8cd;\n",
              "  color: #f1f1f1;\n",
              "}\n",
              "#T_21175_row15_col3 {\n",
              "  background-color: #2788bc;\n",
              "  color: #f1f1f1;\n",
              "}\n",
              "#T_21175_row15_col4 {\n",
              "  background-color: #1576b3;\n",
              "  color: #f1f1f1;\n",
              "}\n",
              "#T_21175_row15_col5 {\n",
              "  background-color: #0862a5;\n",
              "  color: #f1f1f1;\n",
              "}\n",
              "#T_21175_row16_col2 {\n",
              "  background-color: #daf1d5;\n",
              "  color: #000000;\n",
              "}\n",
              "#T_21175_row16_col5 {\n",
              "  background-color: #42a6cc;\n",
              "  color: #f1f1f1;\n",
              "}\n",
              "</style>\n",
              "<table id=\"T_21175\" class=\"dataframe\">\n",
              "  <thead>\n",
              "    <tr>\n",
              "      <th class=\"blank level0\" >&nbsp;</th>\n",
              "      <th id=\"T_21175_level0_col0\" class=\"col_heading level0 col0\" >mean</th>\n",
              "      <th id=\"T_21175_level0_col1\" class=\"col_heading level0 col1\" >std</th>\n",
              "      <th id=\"T_21175_level0_col2\" class=\"col_heading level0 col2\" >min</th>\n",
              "      <th id=\"T_21175_level0_col3\" class=\"col_heading level0 col3\" >25%</th>\n",
              "      <th id=\"T_21175_level0_col4\" class=\"col_heading level0 col4\" >50%</th>\n",
              "      <th id=\"T_21175_level0_col5\" class=\"col_heading level0 col5\" >75%</th>\n",
              "      <th id=\"T_21175_level0_col6\" class=\"col_heading level0 col6\" >max</th>\n",
              "    </tr>\n",
              "  </thead>\n",
              "  <tbody>\n",
              "    <tr>\n",
              "      <th id=\"T_21175_level0_row0\" class=\"row_heading level0 row0\" >T_data_1_1</th>\n",
              "      <td id=\"T_21175_row0_col0\" class=\"data row0 col0\" >250.182182</td>\n",
              "      <td id=\"T_21175_row0_col1\" class=\"data row0 col1\" >32.116609</td>\n",
              "      <td id=\"T_21175_row0_col2\" class=\"data row0 col2\" >-198.000000</td>\n",
              "      <td id=\"T_21175_row0_col3\" class=\"data row0 col3\" >229.000000</td>\n",
              "      <td id=\"T_21175_row0_col4\" class=\"data row0 col4\" >250.000000</td>\n",
              "      <td id=\"T_21175_row0_col5\" class=\"data row0 col5\" >272.000000</td>\n",
              "      <td id=\"T_21175_row0_col6\" class=\"data row0 col6\" >724.000000</td>\n",
              "    </tr>\n",
              "    <tr>\n",
              "      <th id=\"T_21175_level0_row1\" class=\"row_heading level0 row1\" >T_data_1_2</th>\n",
              "      <td id=\"T_21175_row1_col0\" class=\"data row1 col0\" >250.091514</td>\n",
              "      <td id=\"T_21175_row1_col1\" class=\"data row1 col1\" >30.824510</td>\n",
              "      <td id=\"T_21175_row1_col2\" class=\"data row1 col2\" >-122.000000</td>\n",
              "      <td id=\"T_21175_row1_col3\" class=\"data row1 col3\" >229.000000</td>\n",
              "      <td id=\"T_21175_row1_col4\" class=\"data row1 col4\" >250.000000</td>\n",
              "      <td id=\"T_21175_row1_col5\" class=\"data row1 col5\" >272.000000</td>\n",
              "      <td id=\"T_21175_row1_col6\" class=\"data row1 col6\" >762.000000</td>\n",
              "    </tr>\n",
              "    <tr>\n",
              "      <th id=\"T_21175_level0_row2\" class=\"row_heading level0 row2\" >T_data_1_3</th>\n",
              "      <td id=\"T_21175_row2_col0\" class=\"data row2 col0\" >250.253580</td>\n",
              "      <td id=\"T_21175_row2_col1\" class=\"data row2 col1\" >30.691253</td>\n",
              "      <td id=\"T_21175_row2_col2\" class=\"data row2 col2\" >-107.000000</td>\n",
              "      <td id=\"T_21175_row2_col3\" class=\"data row2 col3\" >229.000000</td>\n",
              "      <td id=\"T_21175_row2_col4\" class=\"data row2 col4\" >250.000000</td>\n",
              "      <td id=\"T_21175_row2_col5\" class=\"data row2 col5\" >272.000000</td>\n",
              "      <td id=\"T_21175_row2_col6\" class=\"data row2 col6\" >665.000000</td>\n",
              "    </tr>\n",
              "    <tr>\n",
              "      <th id=\"T_21175_level0_row3\" class=\"row_heading level0 row3\" >T_data_2_1</th>\n",
              "      <td id=\"T_21175_row3_col0\" class=\"data row3 col0\" >349.775603</td>\n",
              "      <td id=\"T_21175_row3_col1\" class=\"data row3 col1\" >42.259606</td>\n",
              "      <td id=\"T_21175_row3_col2\" class=\"data row3 col2\" >-703.000000</td>\n",
              "      <td id=\"T_21175_row3_col3\" class=\"data row3 col3\" >328.000000</td>\n",
              "      <td id=\"T_21175_row3_col4\" class=\"data row3 col4\" >350.000000</td>\n",
              "      <td id=\"T_21175_row3_col5\" class=\"data row3 col5\" >372.000000</td>\n",
              "      <td id=\"T_21175_row3_col6\" class=\"data row3 col6\" >1302.000000</td>\n",
              "    </tr>\n",
              "    <tr>\n",
              "      <th id=\"T_21175_level0_row4\" class=\"row_heading level0 row4\" >T_data_2_2</th>\n",
              "      <td id=\"T_21175_row4_col0\" class=\"data row4 col0\" >349.721759</td>\n",
              "      <td id=\"T_21175_row4_col1\" class=\"data row4 col1\" >40.678867</td>\n",
              "      <td id=\"T_21175_row4_col2\" class=\"data row4 col2\" >-958.000000</td>\n",
              "      <td id=\"T_21175_row4_col3\" class=\"data row4 col3\" >328.000000</td>\n",
              "      <td id=\"T_21175_row4_col4\" class=\"data row4 col4\" >350.000000</td>\n",
              "      <td id=\"T_21175_row4_col5\" class=\"data row4 col5\" >372.000000</td>\n",
              "      <td id=\"T_21175_row4_col6\" class=\"data row4 col6\" >1179.000000</td>\n",
              "    </tr>\n",
              "    <tr>\n",
              "      <th id=\"T_21175_level0_row5\" class=\"row_heading level0 row5\" >T_data_2_3</th>\n",
              "      <td id=\"T_21175_row5_col0\" class=\"data row5 col0\" >349.828165</td>\n",
              "      <td id=\"T_21175_row5_col1\" class=\"data row5 col1\" >37.984437</td>\n",
              "      <td id=\"T_21175_row5_col2\" class=\"data row5 col2\" >-191.000000</td>\n",
              "      <td id=\"T_21175_row5_col3\" class=\"data row5 col3\" >328.000000</td>\n",
              "      <td id=\"T_21175_row5_col4\" class=\"data row5 col4\" >350.000000</td>\n",
              "      <td id=\"T_21175_row5_col5\" class=\"data row5 col5\" >372.000000</td>\n",
              "      <td id=\"T_21175_row5_col6\" class=\"data row5 col6\" >889.000000</td>\n",
              "    </tr>\n",
              "    <tr>\n",
              "      <th id=\"T_21175_level0_row6\" class=\"row_heading level0 row6\" >T_data_3_1</th>\n",
              "      <td id=\"T_21175_row6_col0\" class=\"data row6 col0\" >501.161070</td>\n",
              "      <td id=\"T_21175_row6_col1\" class=\"data row6 col1\" >63.257324</td>\n",
              "      <td id=\"T_21175_row6_col2\" class=\"data row6 col2\" >-775.000000</td>\n",
              "      <td id=\"T_21175_row6_col3\" class=\"data row6 col3\" >464.000000</td>\n",
              "      <td id=\"T_21175_row6_col4\" class=\"data row6 col4\" >502.000000</td>\n",
              "      <td id=\"T_21175_row6_col5\" class=\"data row6 col5\" >538.000000</td>\n",
              "      <td id=\"T_21175_row6_col6\" class=\"data row6 col6\" >1587.000000</td>\n",
              "    </tr>\n",
              "    <tr>\n",
              "      <th id=\"T_21175_level0_row7\" class=\"row_heading level0 row7\" >T_data_3_2</th>\n",
              "      <td id=\"T_21175_row7_col0\" class=\"data row7 col0\" >501.109222</td>\n",
              "      <td id=\"T_21175_row7_col1\" class=\"data row7 col1\" >63.371641</td>\n",
              "      <td id=\"T_21175_row7_col2\" class=\"data row7 col2\" >-759.000000</td>\n",
              "      <td id=\"T_21175_row7_col3\" class=\"data row7 col3\" >464.000000</td>\n",
              "      <td id=\"T_21175_row7_col4\" class=\"data row7 col4\" >502.000000</td>\n",
              "      <td id=\"T_21175_row7_col5\" class=\"data row7 col5\" >538.000000</td>\n",
              "      <td id=\"T_21175_row7_col6\" class=\"data row7 col6\" >2505.000000</td>\n",
              "    </tr>\n",
              "    <tr>\n",
              "      <th id=\"T_21175_level0_row8\" class=\"row_heading level0 row8\" >T_data_3_3</th>\n",
              "      <td id=\"T_21175_row8_col0\" class=\"data row8 col0\" >501.233550</td>\n",
              "      <td id=\"T_21175_row8_col1\" class=\"data row8 col1\" >62.232944</td>\n",
              "      <td id=\"T_21175_row8_col2\" class=\"data row8 col2\" >-613.000000</td>\n",
              "      <td id=\"T_21175_row8_col3\" class=\"data row8 col3\" >464.000000</td>\n",
              "      <td id=\"T_21175_row8_col4\" class=\"data row8 col4\" >502.000000</td>\n",
              "      <td id=\"T_21175_row8_col5\" class=\"data row8 col5\" >539.000000</td>\n",
              "      <td id=\"T_21175_row8_col6\" class=\"data row8 col6\" >1319.000000</td>\n",
              "    </tr>\n",
              "    <tr>\n",
              "      <th id=\"T_21175_level0_row9\" class=\"row_heading level0 row9\" >T_data_4_1</th>\n",
              "      <td id=\"T_21175_row9_col0\" class=\"data row9 col0\" >349.319616</td>\n",
              "      <td id=\"T_21175_row9_col1\" class=\"data row9 col1\" >39.305621</td>\n",
              "      <td id=\"T_21175_row9_col2\" class=\"data row9 col2\" >-514.000000</td>\n",
              "      <td id=\"T_21175_row9_col3\" class=\"data row9 col3\" >327.000000</td>\n",
              "      <td id=\"T_21175_row9_col4\" class=\"data row9 col4\" >349.000000</td>\n",
              "      <td id=\"T_21175_row9_col5\" class=\"data row9 col5\" >372.000000</td>\n",
              "      <td id=\"T_21175_row9_col6\" class=\"data row9 col6\" >1177.000000</td>\n",
              "    </tr>\n",
              "    <tr>\n",
              "      <th id=\"T_21175_level0_row10\" class=\"row_heading level0 row10\" >T_data_4_2</th>\n",
              "      <td id=\"T_21175_row10_col0\" class=\"data row10 col0\" >349.438980</td>\n",
              "      <td id=\"T_21175_row10_col1\" class=\"data row10 col1\" >39.199891</td>\n",
              "      <td id=\"T_21175_row10_col2\" class=\"data row10 col2\" >-471.000000</td>\n",
              "      <td id=\"T_21175_row10_col3\" class=\"data row10 col3\" >328.000000</td>\n",
              "      <td id=\"T_21175_row10_col4\" class=\"data row10 col4\" >350.000000</td>\n",
              "      <td id=\"T_21175_row10_col5\" class=\"data row10 col5\" >372.000000</td>\n",
              "      <td id=\"T_21175_row10_col6\" class=\"data row10 col6\" >1244.000000</td>\n",
              "    </tr>\n",
              "    <tr>\n",
              "      <th id=\"T_21175_level0_row11\" class=\"row_heading level0 row11\" >T_data_4_3</th>\n",
              "      <td id=\"T_21175_row11_col0\" class=\"data row11 col0\" >350.029920</td>\n",
              "      <td id=\"T_21175_row11_col1\" class=\"data row11 col1\" >40.183596</td>\n",
              "      <td id=\"T_21175_row11_col2\" class=\"data row11 col2\" >-609.000000</td>\n",
              "      <td id=\"T_21175_row11_col3\" class=\"data row11 col3\" >328.000000</td>\n",
              "      <td id=\"T_21175_row11_col4\" class=\"data row11 col4\" >350.000000</td>\n",
              "      <td id=\"T_21175_row11_col5\" class=\"data row11 col5\" >372.000000</td>\n",
              "      <td id=\"T_21175_row11_col6\" class=\"data row11 col6\" >944.000000</td>\n",
              "    </tr>\n",
              "    <tr>\n",
              "      <th id=\"T_21175_level0_row12\" class=\"row_heading level0 row12\" >T_data_5_1</th>\n",
              "      <td id=\"T_21175_row12_col0\" class=\"data row12 col0\" >249.748770</td>\n",
              "      <td id=\"T_21175_row12_col1\" class=\"data row12 col1\" >30.732984</td>\n",
              "      <td id=\"T_21175_row12_col2\" class=\"data row12 col2\" >-89.000000</td>\n",
              "      <td id=\"T_21175_row12_col3\" class=\"data row12 col3\" >229.000000</td>\n",
              "      <td id=\"T_21175_row12_col4\" class=\"data row12 col4\" >249.000000</td>\n",
              "      <td id=\"T_21175_row12_col5\" class=\"data row12 col5\" >270.000000</td>\n",
              "      <td id=\"T_21175_row12_col6\" class=\"data row12 col6\" >905.000000</td>\n",
              "    </tr>\n",
              "    <tr>\n",
              "      <th id=\"T_21175_level0_row13\" class=\"row_heading level0 row13\" >T_data_5_2</th>\n",
              "      <td id=\"T_21175_row13_col0\" class=\"data row13 col0\" >249.631130</td>\n",
              "      <td id=\"T_21175_row13_col1\" class=\"data row13 col1\" >30.500211</td>\n",
              "      <td id=\"T_21175_row13_col2\" class=\"data row13 col2\" >-125.000000</td>\n",
              "      <td id=\"T_21175_row13_col3\" class=\"data row13 col3\" >229.000000</td>\n",
              "      <td id=\"T_21175_row13_col4\" class=\"data row13 col4\" >250.000000</td>\n",
              "      <td id=\"T_21175_row13_col5\" class=\"data row13 col5\" >271.000000</td>\n",
              "      <td id=\"T_21175_row13_col6\" class=\"data row13 col6\" >738.000000</td>\n",
              "    </tr>\n",
              "    <tr>\n",
              "      <th id=\"T_21175_level0_row14\" class=\"row_heading level0 row14\" >T_data_5_3</th>\n",
              "      <td id=\"T_21175_row14_col0\" class=\"data row14 col0\" >249.693708</td>\n",
              "      <td id=\"T_21175_row14_col1\" class=\"data row14 col1\" >30.746292</td>\n",
              "      <td id=\"T_21175_row14_col2\" class=\"data row14 col2\" >-163.000000</td>\n",
              "      <td id=\"T_21175_row14_col3\" class=\"data row14 col3\" >229.000000</td>\n",
              "      <td id=\"T_21175_row14_col4\" class=\"data row14 col4\" >250.000000</td>\n",
              "      <td id=\"T_21175_row14_col5\" class=\"data row14 col5\" >271.000000</td>\n",
              "      <td id=\"T_21175_row14_col6\" class=\"data row14 col6\" >624.000000</td>\n",
              "    </tr>\n",
              "    <tr>\n",
              "      <th id=\"T_21175_level0_row15\" class=\"row_heading level0 row15\" >H_data</th>\n",
              "      <td id=\"T_21175_row15_col0\" class=\"data row15 col0\" >174.716991</td>\n",
              "      <td id=\"T_21175_row15_col1\" class=\"data row15 col1\" >14.436130</td>\n",
              "      <td id=\"T_21175_row15_col2\" class=\"data row15 col2\" >141.490000</td>\n",
              "      <td id=\"T_21175_row15_col3\" class=\"data row15 col3\" >162.440000</td>\n",
              "      <td id=\"T_21175_row15_col4\" class=\"data row15 col4\" >174.400000</td>\n",
              "      <td id=\"T_21175_row15_col5\" class=\"data row15 col5\" >187.010000</td>\n",
              "      <td id=\"T_21175_row15_col6\" class=\"data row15 col6\" >207.830000</td>\n",
              "    </tr>\n",
              "    <tr>\n",
              "      <th id=\"T_21175_level0_row16\" class=\"row_heading level0 row16\" >AH_data</th>\n",
              "      <td id=\"T_21175_row16_col0\" class=\"data row16 col0\" >7.499369</td>\n",
              "      <td id=\"T_21175_row16_col1\" class=\"data row16 col1\" >1.148026</td>\n",
              "      <td id=\"T_21175_row16_col2\" class=\"data row16 col2\" >2.890000</td>\n",
              "      <td id=\"T_21175_row16_col3\" class=\"data row16 col3\" >6.730000</td>\n",
              "      <td id=\"T_21175_row16_col4\" class=\"data row16 col4\" >7.510000</td>\n",
              "      <td id=\"T_21175_row16_col5\" class=\"data row16 col5\" >8.270000</td>\n",
              "      <td id=\"T_21175_row16_col6\" class=\"data row16 col6\" >11.840000</td>\n",
              "    </tr>\n",
              "  </tbody>\n",
              "</table>\n"
            ]
          },
          "metadata": {},
          "execution_count": 7
        }
      ],
      "source": [
        "X.describe()[1:].T.style.background_gradient(cmap='GnBu', axis=1)"
      ]
    },
    {
      "cell_type": "code",
      "execution_count": 8,
      "metadata": {
        "colab": {
          "base_uri": "https://localhost:8080/",
          "height": 81
        },
        "id": "0kqbFqIa6_tp",
        "outputId": "2b616a23-6da7-4c24-cedc-7d498aac0653"
      },
      "outputs": [
        {
          "output_type": "execute_result",
          "data": {
            "text/plain": [
              "<pandas.io.formats.style.Styler at 0x781c87155210>"
            ],
            "text/html": [
              "<style type=\"text/css\">\n",
              "#T_d1b7b_row0_col0, #T_d1b7b_row0_col2, #T_d1b7b_row0_col3, #T_d1b7b_row0_col4, #T_d1b7b_row0_col5, #T_d1b7b_row0_col6 {\n",
              "  background-color: #084081;\n",
              "  color: #f1f1f1;\n",
              "}\n",
              "#T_d1b7b_row0_col1 {\n",
              "  background-color: #f7fcf0;\n",
              "  color: #000000;\n",
              "}\n",
              "</style>\n",
              "<table id=\"T_d1b7b\" class=\"dataframe\">\n",
              "  <thead>\n",
              "    <tr>\n",
              "      <th class=\"blank level0\" >&nbsp;</th>\n",
              "      <th id=\"T_d1b7b_level0_col0\" class=\"col_heading level0 col0\" >mean</th>\n",
              "      <th id=\"T_d1b7b_level0_col1\" class=\"col_heading level0 col1\" >std</th>\n",
              "      <th id=\"T_d1b7b_level0_col2\" class=\"col_heading level0 col2\" >min</th>\n",
              "      <th id=\"T_d1b7b_level0_col3\" class=\"col_heading level0 col3\" >25%</th>\n",
              "      <th id=\"T_d1b7b_level0_col4\" class=\"col_heading level0 col4\" >50%</th>\n",
              "      <th id=\"T_d1b7b_level0_col5\" class=\"col_heading level0 col5\" >75%</th>\n",
              "      <th id=\"T_d1b7b_level0_col6\" class=\"col_heading level0 col6\" >max</th>\n",
              "    </tr>\n",
              "  </thead>\n",
              "  <tbody>\n",
              "    <tr>\n",
              "      <th id=\"T_d1b7b_level0_row0\" class=\"row_heading level0 row0\" >quality</th>\n",
              "      <td id=\"T_d1b7b_row0_col0\" class=\"data row0 col0\" >420.000000</td>\n",
              "      <td id=\"T_d1b7b_row0_col1\" class=\"data row0 col1\" >0.000000</td>\n",
              "      <td id=\"T_d1b7b_row0_col2\" class=\"data row0 col2\" >420.000000</td>\n",
              "      <td id=\"T_d1b7b_row0_col3\" class=\"data row0 col3\" >420.000000</td>\n",
              "      <td id=\"T_d1b7b_row0_col4\" class=\"data row0 col4\" >420.000000</td>\n",
              "      <td id=\"T_d1b7b_row0_col5\" class=\"data row0 col5\" >420.000000</td>\n",
              "      <td id=\"T_d1b7b_row0_col6\" class=\"data row0 col6\" >420.000000</td>\n",
              "    </tr>\n",
              "  </tbody>\n",
              "</table>\n"
            ]
          },
          "metadata": {},
          "execution_count": 8
        }
      ],
      "source": [
        "submission.describe()[1:].T.style.background_gradient(cmap='GnBu', axis=1)"
      ]
    },
    {
      "cell_type": "code",
      "execution_count": 9,
      "metadata": {
        "colab": {
          "base_uri": "https://localhost:8080/",
          "height": 81
        },
        "id": "e6nWT8ed8MqL",
        "outputId": "4d89c9e9-5f84-47b9-8520-a8606209779a"
      },
      "outputs": [
        {
          "output_type": "execute_result",
          "data": {
            "text/plain": [
              "<pandas.io.formats.style.Styler at 0x781c4ff57390>"
            ],
            "text/html": [
              "<style type=\"text/css\">\n",
              "#T_40edb_row0_col0 {\n",
              "  background-color: #2484ba;\n",
              "  color: #f1f1f1;\n",
              "}\n",
              "#T_40edb_row0_col1 {\n",
              "  background-color: #f7fcf0;\n",
              "  color: #000000;\n",
              "}\n",
              "#T_40edb_row0_col2 {\n",
              "  background-color: #a6dcb6;\n",
              "  color: #000000;\n",
              "}\n",
              "#T_40edb_row0_col3 {\n",
              "  background-color: #3699c5;\n",
              "  color: #f1f1f1;\n",
              "}\n",
              "#T_40edb_row0_col4 {\n",
              "  background-color: #2081b8;\n",
              "  color: #f1f1f1;\n",
              "}\n",
              "#T_40edb_row0_col5 {\n",
              "  background-color: #0d6dae;\n",
              "  color: #f1f1f1;\n",
              "}\n",
              "#T_40edb_row0_col6 {\n",
              "  background-color: #084081;\n",
              "  color: #f1f1f1;\n",
              "}\n",
              "</style>\n",
              "<table id=\"T_40edb\" class=\"dataframe\">\n",
              "  <thead>\n",
              "    <tr>\n",
              "      <th class=\"blank level0\" >&nbsp;</th>\n",
              "      <th id=\"T_40edb_level0_col0\" class=\"col_heading level0 col0\" >mean</th>\n",
              "      <th id=\"T_40edb_level0_col1\" class=\"col_heading level0 col1\" >std</th>\n",
              "      <th id=\"T_40edb_level0_col2\" class=\"col_heading level0 col2\" >min</th>\n",
              "      <th id=\"T_40edb_level0_col3\" class=\"col_heading level0 col3\" >25%</th>\n",
              "      <th id=\"T_40edb_level0_col4\" class=\"col_heading level0 col4\" >50%</th>\n",
              "      <th id=\"T_40edb_level0_col5\" class=\"col_heading level0 col5\" >75%</th>\n",
              "      <th id=\"T_40edb_level0_col6\" class=\"col_heading level0 col6\" >max</th>\n",
              "    </tr>\n",
              "  </thead>\n",
              "  <tbody>\n",
              "    <tr>\n",
              "      <th id=\"T_40edb_level0_row0\" class=\"row_heading level0 row0\" >quality</th>\n",
              "      <td id=\"T_40edb_row0_col0\" class=\"data row0 col0\" >402.800747</td>\n",
              "      <td id=\"T_40edb_row0_col1\" class=\"data row0 col1\" >46.273228</td>\n",
              "      <td id=\"T_40edb_row0_col2\" class=\"data row0 col2\" >221.000000</td>\n",
              "      <td id=\"T_40edb_row0_col3\" class=\"data row0 col3\" >372.000000</td>\n",
              "      <td id=\"T_40edb_row0_col4\" class=\"data row0 col4\" >408.000000</td>\n",
              "      <td id=\"T_40edb_row0_col5\" class=\"data row0 col5\" >439.000000</td>\n",
              "      <td id=\"T_40edb_row0_col6\" class=\"data row0 col6\" >505.000000</td>\n",
              "    </tr>\n",
              "  </tbody>\n",
              "</table>\n"
            ]
          },
          "metadata": {},
          "execution_count": 9
        }
      ],
      "source": [
        "Y.describe()[1:].T.style.background_gradient(cmap='GnBu', axis=1)"
      ]
    },
    {
      "cell_type": "markdown",
      "metadata": {
        "id": "Dp-Uycr1BsfH"
      },
      "source": [
        "## 🧼 Analisi dei Missing Values\n",
        "\n",
        "L'analisi dei valori mancanti è un passo fondamentale dell'EDA. Capire **dove e quanto sono presenti i NaN** ci aiuta a:\n",
        "\n",
        "- Determinare **quali osservazioni possiamo includere** nell'analisi\n",
        "- Decidere se conviene **imputare** (riempire) i valori o **scartare** le righe/colonne\n",
        "- Valutare se i NaN sono casuali o seguono un **pattern sistematico**\n",
        "\n",
        "⚠️ Valori nulli non gestiti correttamente possono ridurre la **qualità dell’analisi** e introdurre **bias** nel modello.\n"
      ]
    },
    {
      "cell_type": "code",
      "execution_count": null,
      "metadata": {
        "id": "iffqCbRk-_Ce"
      },
      "outputs": [],
      "source": [
        "rows, cols = X.shape[0],X.shape[1]\n",
        "total_cells = rows * cols\n",
        "num_ones = int(0.2 * total_cells)\n",
        "\n",
        "# Inizialmente tutti 0\n",
        "binary_matrix = np.zeros(total_cells, dtype=int)\n",
        "\n",
        "# Impostiamo 1 in posizioni casuali\n",
        "np.random.seed(42)\n",
        "binary_matrix[:num_ones] = 1\n",
        "np.random.shuffle(binary_matrix)\n",
        "\n",
        "\n",
        "binary_matrix = binary_matrix.reshape((rows, cols))\n",
        "binary_df = pd.DataFrame(binary_matrix, columns=[f\"col_{i+1}\" for i in range(cols)])\n",
        "plt.figure(figsize=(22,4))\n",
        "\n",
        "sns.heatmap(binary_matrix,cmap='GnBu',cbar=False, annot=False,\n",
        "             fmt='0.0f').set_title('Count of Missing Values', fontsize=18)\n",
        "plt.show()\n"
      ]
    },
    {
      "cell_type": "code",
      "execution_count": null,
      "metadata": {
        "id": "1xkq6BXH-w1G"
      },
      "outputs": [],
      "source": [
        "plt.figure(figsize=(22,4))\n",
        "sns.heatmap((X.isna().sum()).to_frame(name='').T,cmap='GnBu',cbar=False, annot=False,\n",
        "             fmt='0.0f').set_title('Count of Missing Values', fontsize=18)\n",
        "plt.show()"
      ]
    },
    {
      "cell_type": "code",
      "execution_count": null,
      "metadata": {
        "id": "l4J6Tw2Y9wvI"
      },
      "outputs": [],
      "source": [
        "plt.figure(figsize=(22,4))\n",
        "sns.heatmap((submission.isna().sum()).to_frame(name='').T,cmap='GnBu',cbar=False, annot=False,\n",
        "             fmt='0.0f').set_title('Count of Missing Values', fontsize=18)\n",
        "plt.show()"
      ]
    },
    {
      "cell_type": "code",
      "execution_count": null,
      "metadata": {
        "id": "jCXQIFzA-1Xm"
      },
      "outputs": [],
      "source": [
        "plt.figure(figsize=(22,4))\n",
        "sns.heatmap((Y.isna().sum()).to_frame(name='').T,cmap='GnBu',cbar=False, annot=False,\n",
        "             fmt='0.0f').set_title('Count of Missing Values Y ', fontsize=18)\n",
        "plt.show()"
      ]
    },
    {
      "cell_type": "markdown",
      "metadata": {
        "id": "F2RPeb6NRXzn"
      },
      "source": [
        "## 📊 Analisi delle relazioni tra le variabili\n",
        "\n",
        "L’analisi delle relazioni tra le variabili è una fase fondamentale dell’EDA (Analisi Esplorativa dei Dati), perché ci permette di:\n",
        "\n",
        "- 🧠 **Capire quali variabili influenzano maggiormente il target**  \n",
        "  Se una variabile ha una forte correlazione con la variabile `quality`, è un buon candidato come feature predittiva.\n",
        "\n",
        "- 🧹 **Eliminare ridondanze**  \n",
        "  Se due variabili sono fortemente correlate tra loro (es. `temp_1` e `temp_2`), una delle due potrebbe essere superflua.\n",
        "\n",
        "- 🧪 **Validare ipotesi**  \n",
        "  Ad esempio: “ci aspettiamo che all’aumentare dell’umidità, la qualità diminuisca” → la correlazione ci dice se è vero.\n",
        "\n",
        "- ⚙️ **Guidare il feature engineering**  \n",
        "  Possiamo decidere di combinare, trasformare o selezionare variabili in base alle relazioni osservate.\n",
        "\n",
        "- 🚀 **Costruire modelli più semplici ed efficienti**  \n",
        "  Rimuovendo le variabili inutili o poco informative, si migliora la velocità e la qualità del modello.\n",
        "\n",
        "> In conclusione, questa fase ci aiuta a selezionare le informazioni più rilevanti, migliorare la struttura dei dati e ottimizzare le performance del nostro modello predittivo.\n"
      ]
    },
    {
      "cell_type": "code",
      "execution_count": null,
      "metadata": {
        "id": "BK8keFbnF2Da"
      },
      "outputs": [],
      "source": [
        "import datetime\n",
        "\n",
        "X[\"date_time\"] = pd.to_datetime(X[\"date_time\"])\n",
        "X[\"date_hour\"] = X[\"date_time\"].apply(lambda x: x.strftime(\"%d-%m-%Y-%H\"))\n",
        "\n",
        "Y[\"date_shifted\"] = pd.to_datetime(Y[\"date_time\"]) - datetime.timedelta(hours=1) #perchè si riferisce all' ora precedente\n",
        "Y[\"date_shifted\"] = Y[\"date_shifted\"].apply(lambda x: x.strftime(\"%d-%m-%Y-%H\"))\n",
        "\n",
        "training = pd.merge(X, Y[[\"date_shifted\", \"quality\"]], left_on=\"date_hour\", right_on=\"date_shifted\", how=\"inner\")\n"
      ]
    },
    {
      "cell_type": "code",
      "execution_count": null,
      "metadata": {
        "id": "7As8XAx9bw2D"
      },
      "outputs": [],
      "source": [
        "#copare the data\n",
        "training['date_hour'].nunique(),Y.shape[0]"
      ]
    },
    {
      "cell_type": "code",
      "execution_count": null,
      "metadata": {
        "id": "kXh4__IgHRQU"
      },
      "outputs": [],
      "source": [
        "# Aggrega i dati al livello orario\n",
        "training.head()"
      ]
    },
    {
      "cell_type": "code",
      "execution_count": null,
      "metadata": {
        "id": "4TsvW6lDMgxi"
      },
      "outputs": [],
      "source": [
        "training['ora_valore'] = pd.to_datetime(training['date_time']).dt.hour\n",
        "training['ora_valore'].unique()\n",
        "df_corr= training.iloc[ :,list(range(1, 18)) + [-2,-1]]\n",
        "df_corr.corr()"
      ]
    },
    {
      "cell_type": "code",
      "execution_count": null,
      "metadata": {
        "id": "HhAQxmSGOeuY"
      },
      "outputs": [],
      "source": [
        "sns.heatmap(df_corr.corr(), annot=False, cmap='GnBu')"
      ]
    },
    {
      "cell_type": "markdown",
      "metadata": {
        "id": "f7gVTXPCTf9m"
      },
      "source": [
        "# 🤖 Creazione del Modello di Regressione\n",
        "\n",
        "Adesso siamo pronti a costruire un **modello predittivo** che ci permetta di stimare la **qualità di un batch** (unità oraria di produzione) sulla base:\n",
        "\n",
        "- dei dati raccolti minuto per minuto durante il processo di tostatura\n",
        "- delle variabili statiche iniziali (umidità e altezza strato)\n",
        "- delle nuove feature aggregate, come la **temperatura media per camera**\n",
        "\n",
        "Il nostro obiettivo è all"
      ]
    },
    {
      "cell_type": "markdown",
      "metadata": {
        "id": "bcspV7yAREVr"
      },
      "source": [
        "## 🛠️ Feature Engineering: media della temperatura per camera\n",
        "\n",
        "Nel contesto di questo problema, ogni camera della macchina è dotata di 3 sensori di temperatura.\n",
        "\n",
        "Dall’analisi preliminare, abbiamo osservato che:\n",
        "- I sensori di ciascuna camera forniscono letture **molto simili**\n",
        "- Le variazioni tra sensori della stessa camera sono **minime**\n",
        "\n",
        "👉 In questo caso, ha più senso **riassumere il comportamento di ogni camera** calcolando la **temperatura media dei suoi 3 sensori**.  \n",
        "In questo modo:\n",
        "- Riduciamo il numero di feature\n",
        "- Aumentiamo la robustezza del modello\n",
        "- Rappresentiamo meglio il funzionamento termico medio della camera\n",
        "\n",
        "### ✅ Obiettivo:\n",
        "Creare 5 nuove variabili:\n",
        "- `temp_camera_1_mean`, `temp_camera_2_mean`, ..., `temp_camera_5_mean`\n",
        "\n",
        "Queste nuove feature saranno usate per predire la qualità finale del prodotto."
      ]
    },
    {
      "cell_type": "code",
      "execution_count": null,
      "metadata": {
        "id": "ZzwF9Q9fRCPg"
      },
      "outputs": [],
      "source": [
        "temp_camera_1_mean, temp_camera_2_mean, temp_camera_3_mean = training.iloc[:, 1:4].mean(axis=1), training.iloc[:, 4:7].mean(axis=1), training.iloc[:, 7:10].mean(axis=1)\n",
        "temp_camera_4_mean, temp_camera_5_mean = training.iloc[:, 10:13].mean(axis=1), training.iloc[:, 13:16].mean(axis=1)"
      ]
    },
    {
      "cell_type": "code",
      "execution_count": null,
      "metadata": {
        "id": "_BWwzqlAAIpp"
      },
      "outputs": [],
      "source": [
        "new_df_train = pd.DataFrame({\n",
        "    'temp_camera_1_mean': temp_camera_1_mean,\n",
        "    'temp_camera_2_mean': temp_camera_2_mean,\n",
        "    'temp_camera_3_mean': temp_camera_3_mean,\n",
        "    'temp_camera_4_mean': temp_camera_4_mean,\n",
        "    'temp_camera_5_mean': temp_camera_5_mean,\n",
        "    'H_data': training['H_data'],\n",
        "    'quality': training['quality']\n",
        "})\n",
        "sns.heatmap(new_df_train.corr(), annot=False, cmap='GnBu')"
      ]
    },
    {
      "cell_type": "markdown",
      "metadata": {
        "id": "pxvBFgipNRSm"
      },
      "source": [
        "## Adattamento del modello di regressione lineare\n",
        "\n",
        "In questa fase abbiamo addestrato un modello di regressione lineare con l'obiettivo di predire la qualità del prodotto (`quality`). Il modello mostra una buona capacità predittiva generale, con un coefficiente di determinazione \\( R^2 \\) di circa 0.76 sia sul training che sul test set, e un errore medio assoluto (MAE) contenuto rispetto all’intervallo dei valori della variabile target.\n",
        "\n",
        "Tuttavia, l’analisi dei residui ha evidenziato la presenza di errori particolarmente elevati in alcuni casi (fino a −300), suggerendo che il modello lineare potrebbe non essere in grado di catturare appieno la complessità del fenomeno. Questo comportamento anomalo indica la possibile presenza di outlier o relazioni non lineari tra le variabili.\n",
        "\n",
        "Per migliorare la qualità delle predizioni, sarà opportuno valutare modelli più flessibili (ad esempio Random Forest ) e analizzare più approfonditamente la natura degli outlier nei residui.\n"
      ]
    },
    {
      "cell_type": "code",
      "execution_count": null,
      "metadata": {
        "id": "iqg9veCvBNuU"
      },
      "outputs": [],
      "source": [
        "#adesso siamo pronti per fare una regressione lo scopo principlale è quello di predirre quality\n",
        "from sklearn.model_selection import train_test_split\n",
        "from sklearn.linear_model import LinearRegression\n",
        "from sklearn.metrics import mean_absolute_error\n",
        "\n",
        "\n",
        "X_train, X_test, y_train, y_test = train_test_split(new_df_train.drop('quality', axis=1), new_df_train['quality'], test_size=0.2, random_state=42)\n",
        "\n",
        "model = LinearRegression()\n",
        "model.fit(X_train, y_train)\n",
        "\n",
        "y_pred = model.predict(X_test)\n",
        "mae = mean_absolute_error(y_test, y_pred)\n",
        "print(f'Mean Absolute Error: {mae}')\n",
        "\n",
        "score_training = model.score(X_train, y_train)\n",
        "score_test = model.score(X_test, y_test)\n",
        "\n",
        "print(f'Score training: {score_training}')\n",
        "print(f'Score test: {score_test}')"
      ]
    },
    {
      "cell_type": "code",
      "execution_count": null,
      "metadata": {
        "id": "iAO5Xua0EGNi"
      },
      "outputs": [],
      "source": [
        "residuals = y_test - y_pred\n",
        "sns.histplot(residuals)\n",
        "min(residuals),max(residuals)"
      ]
    },
    {
      "cell_type": "code",
      "execution_count": null,
      "metadata": {
        "id": "xtz-LuquClIz"
      },
      "outputs": [],
      "source": [
        "df = pd.DataFrame({\n",
        "    'y_test': y_test,\n",
        "    'y_pred': y_pred,\n",
        "    'res': residuals\n",
        "})\n",
        "sum(abs(df['res'])>300)"
      ]
    },
    {
      "cell_type": "code",
      "execution_count": null,
      "metadata": {
        "id": "aYOgski7M_C1"
      },
      "outputs": [],
      "source": [
        "# val_hour=training['date_hour'].unique()\n",
        "# val_hour[0]"
      ]
    },
    {
      "cell_type": "code",
      "source": [
        "# #split columns training for minute\n",
        "# part_train = training[training['date_hour']==val_hour[0]].T\n",
        "# part_train.columns +=1\n",
        "# part_train.columns\n",
        "# columns = part_train.index[range(1,16)]\n",
        "\n",
        "# new_name_columns = []\n",
        "\n",
        "# for _ in columns :\n",
        "#     for i in range(1,61):\n",
        "#         new_name_columns.append(f\"{_}_{i}\")\n",
        "# flattened_array = part_train.T[columns].to_numpy().flatten()"
      ],
      "metadata": {
        "id": "lgUWoyLCxCNq"
      },
      "execution_count": null,
      "outputs": []
    },
    {
      "cell_type": "code",
      "source": [
        "# new_training = pd.DataFrame(columns=new_name_columns)\n",
        "# new_training"
      ],
      "metadata": {
        "id": "lHOFRP3Tx5PB"
      },
      "execution_count": null,
      "outputs": []
    },
    {
      "cell_type": "code",
      "source": [
        "# for hour in val_hour:\n",
        "#     part_train = training[training['date_hour'] == hour]\n",
        "\n",
        "#     # Assicuriamoci che 'columns' esistano nel sotto-dataset\n",
        "#     flattened_array = part_train[columns].to_numpy().flatten()\n",
        "\n",
        "#     # Aggiungiamo come una nuova riga nel DataFrame\n",
        "#     new_training = pd.concat(\n",
        "#         [new_training, pd.DataFrame([flattened_array],  columns=new_name_columns)],\n",
        "#         ignore_index=True\n",
        "#     )"
      ],
      "metadata": {
        "id": "047ivwRl1hrr"
      },
      "execution_count": null,
      "outputs": []
    },
    {
      "cell_type": "code",
      "source": [
        "\n"
      ],
      "metadata": {
        "id": "5YCVyZoSEtkr"
      },
      "execution_count": null,
      "outputs": []
    },
    {
      "cell_type": "code",
      "source": [
        "\n"
      ],
      "metadata": {
        "id": "cvnWMNwTFOts"
      },
      "execution_count": null,
      "outputs": []
    }
  ],
  "metadata": {
    "colab": {
      "provenance": [],
      "authorship_tag": "ABX9TyPZMve6aDEbcEIwKVsFSSMI",
      "include_colab_link": true
    },
    "kernelspec": {
      "display_name": "Python 3",
      "name": "python3"
    },
    "language_info": {
      "name": "python"
    }
  },
  "nbformat": 4,
  "nbformat_minor": 0
}